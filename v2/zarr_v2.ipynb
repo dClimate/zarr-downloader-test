{
 "cells": [
  {
   "cell_type": "markdown",
   "id": "6942cad7",
   "metadata": {},
   "source": [
    "To execute this notebook:\n",
    "\n",
    "1. Install dependencies\n",
    "`pdm install`\n",
    "\n",
    "2. Create a kernel\n",
    "`pdm run python -m ipykernel install --user --name v2-env --display-name \"Python (v2-env)\"`\n",
    "\n",
    "3. Set the kernel of this notebook on the newly created `v2-env`\n",
    "\n",
    "4. Execute"
   ]
  },
  {
   "cell_type": "code",
   "execution_count": 2,
   "id": "3a552590",
   "metadata": {},
   "outputs": [
    {
     "name": "stdout",
     "output_type": "stream",
     "text": [
      "<xarray.Dataset> Size: 758MB\n",
      "Dimensions:    (latitude: 360, longitude: 720, time: 731)\n",
      "Coordinates:\n",
      "  * latitude   (latitude) float32 1kB -89.75 -89.25 -88.75 ... 88.75 89.25 89.75\n",
      "  * longitude  (longitude) float32 3kB -179.8 -179.2 -178.8 ... 179.2 179.8\n",
      "  * time       (time) datetime64[ns] 6kB 1979-01-01 1979-01-02 ... 1980-12-31\n",
      "Data variables:\n",
      "    tmax       (time, latitude, longitude) float32 758MB ...\n",
      "Attributes:\n",
      "    Conventions:    CF-1.0\n",
      "    References:     https://www.psl.noaa.gov/data/gridded/data.cpc.globaltemp...\n",
      "    Source:         ftp://ftp.cpc.ncep.noaa.gov/precip/wd52ws/global_temp/\n",
      "    dataset_title:  CPC GLOBAL TEMP\n",
      "    history:        created 9/2016 by CAS NOAA/ESRL PSD\n",
      "    title:          CPC GLOBAL TEMP V1.0\n",
      "    version:        V1.0\n"
     ]
    }
   ],
   "source": [
    "import time\n",
    "\n",
    "import xarray as xr\n",
    "from multiformats import CID\n",
    "from py_hamt import HAMT, IPFSStore\n",
    "from xarray import Dataset\n",
    "\n",
    "ipns_hash = \"bafyr4iceke6zmxqvvil4okumfde4pm4exrcqqp4x4qlh2ddlwo4cdxclb4\"\n",
    "\n",
    "# Initialize IPFSStore with a public IPFS gateway\n",
    "ipfs_store = IPFSStore(gateway_uri_stem=\"https://ipfs-gateway.dclimate.net/\", timeout_seconds=120)\n",
    "\n",
    "# Decode the root CID for the Zarr dataset\n",
    "root_cid = CID.decode(ipns_hash)\n",
    "\n",
    "# Create HAMT instance using the IPFSStore\n",
    "hamt = HAMT(store=ipfs_store, root_node_id=root_cid)\n",
    "\n",
    "# Open the dataset with xarray\n",
    "zarr_ds: Dataset = xr.open_zarr(store=hamt)\n",
    "\n",
    "# Sort the dataset by latitude and longitude\n",
    "zarr_ds = zarr_ds.sortby(\"longitude\")\n",
    "zarr_ds = zarr_ds.sortby(\"latitude\")\n",
    "\n",
    "print(zarr_ds)"
   ]
  },
  {
   "cell_type": "code",
   "execution_count": 3,
   "id": "83afd9fc",
   "metadata": {},
   "outputs": [
    {
     "name": "stdout",
     "output_type": "stream",
     "text": [
      "<xarray.Dataset> Size: 1MB\n",
      "Dimensions:    (latitude: 20, longitude: 20, time: 731)\n",
      "Coordinates:\n",
      "  * latitude   (latitude) float32 80B 0.25 0.75 1.25 1.75 ... 8.75 9.25 9.75\n",
      "  * longitude  (longitude) float32 80B 0.25 0.75 1.25 1.75 ... 8.75 9.25 9.75\n",
      "  * time       (time) datetime64[ns] 6kB 1979-01-01 1979-01-02 ... 1980-12-31\n",
      "Data variables:\n",
      "    tmax       (time, latitude, longitude) float32 1MB ...\n",
      "Attributes:\n",
      "    Conventions:    CF-1.0\n",
      "    References:     https://www.psl.noaa.gov/data/gridded/data.cpc.globaltemp...\n",
      "    Source:         ftp://ftp.cpc.ncep.noaa.gov/precip/wd52ws/global_temp/\n",
      "    dataset_title:  CPC GLOBAL TEMP\n",
      "    history:        created 9/2016 by CAS NOAA/ESRL PSD\n",
      "    title:          CPC GLOBAL TEMP V1.0\n",
      "    version:        V1.0\n"
     ]
    }
   ],
   "source": [
    "lat_bounds = (0, 10)\n",
    "lon_bounds = (0, 10)\n",
    "time_bounds = (\"1979-01-01\", \"1980-12-31\")\n",
    "\n",
    "# Subset the dataset\n",
    "sliced_ds = zarr_ds.sel(\n",
    "    latitude=slice(*lat_bounds),\n",
    "    longitude=slice(*lon_bounds),\n",
    "    time=slice(*time_bounds)\n",
    ")\n",
    "\n",
    "print(sliced_ds)"
   ]
  },
  {
   "cell_type": "code",
   "execution_count": 4,
   "id": "76dd8510",
   "metadata": {},
   "outputs": [
    {
     "name": "stdout",
     "output_type": "stream",
     "text": [
      "Download and subset completed in 12.77 seconds. Speed: 0.09 MB/s\n",
      "<xarray.Dataset> Size: 1MB\n",
      "Dimensions:    (latitude: 20, longitude: 20, time: 731)\n",
      "Coordinates:\n",
      "  * latitude   (latitude) float32 80B 0.25 0.75 1.25 1.75 ... 8.75 9.25 9.75\n",
      "  * longitude  (longitude) float32 80B 0.25 0.75 1.25 1.75 ... 8.75 9.25 9.75\n",
      "  * time       (time) datetime64[ns] 6kB 1979-01-01 1979-01-02 ... 1980-12-31\n",
      "Data variables:\n",
      "    tmax       (time, latitude, longitude) float32 1MB nan nan ... 28.03 30.67\n",
      "Attributes:\n",
      "    Conventions:    CF-1.0\n",
      "    References:     https://www.psl.noaa.gov/data/gridded/data.cpc.globaltemp...\n",
      "    Source:         ftp://ftp.cpc.ncep.noaa.gov/precip/wd52ws/global_temp/\n",
      "    dataset_title:  CPC GLOBAL TEMP\n",
      "    history:        created 9/2016 by CAS NOAA/ESRL PSD\n",
      "    title:          CPC GLOBAL TEMP V1.0\n",
      "    version:        V1.0\n"
     ]
    }
   ],
   "source": [
    "# Trigger computation / download\n",
    "start_time = time.time()\n",
    "sliced_ds.load()\n",
    "end_time = time.time()\n",
    "\n",
    "download_time = end_time - start_time\n",
    "download_size_mb = sliced_ds.nbytes / (1024 * 1024)\n",
    "download_speed_mbs = download_size_mb / download_time if download_time > 0 else 0.0\n",
    "\n",
    "print(f\"Download and subset completed in {download_time:.2f} seconds. Speed: {download_speed_mbs:.2f} MB/s\")\n",
    "print(sliced_ds)"
   ]
  }
 ],
 "metadata": {
  "kernelspec": {
   "display_name": "Python (v2-env)",
   "language": "python",
   "name": "v2-env"
  },
  "language_info": {
   "codemirror_mode": {
    "name": "ipython",
    "version": 3
   },
   "file_extension": ".py",
   "mimetype": "text/x-python",
   "name": "python",
   "nbconvert_exporter": "python",
   "pygments_lexer": "ipython3",
   "version": "3.12.7"
  }
 },
 "nbformat": 4,
 "nbformat_minor": 5
}
