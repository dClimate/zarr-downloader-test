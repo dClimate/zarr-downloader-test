{
 "cells": [
  {
   "cell_type": "markdown",
   "id": "08c3e6f4",
   "metadata": {},
   "source": [
    "To execute this notebook:\n",
    "\n",
    "1. Install dependencies\n",
    "`pdm install`\n",
    "\n",
    "2. Create a kernel\n",
    "`pdm run python -m ipykernel install --user --name v3-env --display-name \"Python (v3-env)\"`\n",
    "\n",
    "3. Set the kernel of this notebook on the newly created `v3-env`\n",
    "\n",
    "4. Execute"
   ]
  },
  {
   "cell_type": "code",
   "execution_count": 1,
   "id": "3a552590",
   "metadata": {},
   "outputs": [
    {
     "name": "stdout",
     "output_type": "stream",
     "text": [
      "<xarray.Dataset> Size: 18GB\n",
      "Dimensions:    (time: 16900, latitude: 360, longitude: 720)\n",
      "Coordinates:\n",
      "  * time       (time) datetime64[ns] 135kB 1979-01-01 1979-01-02 ... 2025-04-08\n",
      "  * latitude   (latitude) float32 1kB -89.75 -89.25 -88.75 ... 88.75 89.25 89.75\n",
      "  * longitude  (longitude) float32 3kB -179.8 -179.2 -178.8 ... 179.2 179.8\n",
      "Data variables:\n",
      "    tmax       (time, latitude, longitude) float32 18GB ...\n",
      "Attributes:\n",
      "    Conventions:    CF-1.0\n",
      "    Source:         ftp://ftp.cpc.ncep.noaa.gov/precip/wd52ws/global_temp/\n",
      "    References:     https://www.psl.noaa.gov/data/gridded/data.cpc.globaltemp...\n",
      "    version:        V1.0\n",
      "    title:          CPC GLOBAL TEMP V1.0\n",
      "    dataset_title:  CPC GLOBAL TEMP\n",
      "    history:        Updated 2025-04-09 15:37:46\n"
     ]
    }
   ],
   "source": [
    "import time\n",
    "\n",
    "import xarray as xr\n",
    "from multiformats import CID\n",
    "from py_hamt import HAMT, IPFSStore, IPFSZarr3\n",
    "from xarray import Dataset\n",
    "\n",
    "ipns_hash = \"bafyr4idlv44ryi65tm6kejtpze3niotafgt2p6jfedlld5yotqo3ekkn3u\"\n",
    "\n",
    "# Initialize IPFSStore with a public IPFS gateway\n",
    "ipfs_store = IPFSStore(gateway_uri_stem=\"https://ipfs-gateway.dclimate.net/\", timeout_seconds=120)\n",
    "\n",
    "# Decode the root CID for the Zarr dataset\n",
    "root_cid = CID.decode(ipns_hash)\n",
    "\n",
    "# Create HAMT instance using the IPFSStore\n",
    "hamt = HAMT(store=ipfs_store, root_node_id=root_cid)\n",
    "\n",
    "# Wrap the HAMT instance with IPFSZarr3\n",
    "zarr_store = IPFSZarr3(hamt, read_only=True)\n",
    "\n",
    "# Open the dataset with xarray\n",
    "zarr_ds: Dataset = xr.open_zarr(store=zarr_store, zarr_format=3)\n",
    "\n",
    "# Sort the dataset by latitude and longitude\n",
    "zarr_ds = zarr_ds.sortby(\"longitude\")\n",
    "zarr_ds = zarr_ds.sortby(\"latitude\")\n",
    "\n",
    "print(zarr_ds)"
   ]
  },
  {
   "cell_type": "code",
   "execution_count": 2,
   "id": "83afd9fc",
   "metadata": {},
   "outputs": [
    {
     "name": "stdout",
     "output_type": "stream",
     "text": [
      "<xarray.Dataset> Size: 175kB\n",
      "Dimensions:    (time: 151, latitude: 24, longitude: 12)\n",
      "Coordinates:\n",
      "  * time       (time) datetime64[ns] 1kB 1979-01-01 1979-01-02 ... 1979-05-31\n",
      "  * latitude   (latitude) float32 96B 40.25 40.75 41.25 ... 50.75 51.25 51.75\n",
      "  * longitude  (longitude) float32 48B 4.25 4.75 5.25 5.75 ... 8.75 9.25 9.75\n",
      "Data variables:\n",
      "    tmax       (time, latitude, longitude) float32 174kB ...\n",
      "Attributes:\n",
      "    Conventions:    CF-1.0\n",
      "    Source:         ftp://ftp.cpc.ncep.noaa.gov/precip/wd52ws/global_temp/\n",
      "    References:     https://www.psl.noaa.gov/data/gridded/data.cpc.globaltemp...\n",
      "    version:        V1.0\n",
      "    title:          CPC GLOBAL TEMP V1.0\n",
      "    dataset_title:  CPC GLOBAL TEMP\n",
      "    history:        Updated 2025-04-09 15:37:46\n"
     ]
    }
   ],
   "source": [
    "lat_bounds = (40, 52)\n",
    "lon_bounds = (4, 10)\n",
    "time_bounds = (\"1979-01-01\", \"1979-05-31\")\n",
    "\n",
    "# Subset the dataset\n",
    "sliced_ds = zarr_ds.sel(\n",
    "    latitude=slice(*lat_bounds),\n",
    "    longitude=slice(*lon_bounds),\n",
    "    time=slice(*time_bounds)\n",
    ")\n",
    "\n",
    "print(sliced_ds)"
   ]
  },
  {
   "cell_type": "code",
   "execution_count": 3,
   "id": "76dd8510",
   "metadata": {},
   "outputs": [
    {
     "name": "stdout",
     "output_type": "stream",
     "text": [
      "Download and subset completed in 4.15 seconds. Speed: 0.04 MB/s\n",
      "<xarray.Dataset> Size: 175kB\n",
      "Dimensions:    (time: 151, latitude: 24, longitude: 12)\n",
      "Coordinates:\n",
      "  * time       (time) datetime64[ns] 1kB 1979-01-01 1979-01-02 ... 1979-05-31\n",
      "  * latitude   (latitude) float32 96B 40.25 40.75 41.25 ... 50.75 51.25 51.75\n",
      "  * longitude  (longitude) float32 48B 4.25 4.75 5.25 5.75 ... 8.75 9.25 9.75\n",
      "Data variables:\n",
      "    tmax       (time, latitude, longitude) float32 174kB 15.9 nan ... 29.11\n",
      "Attributes:\n",
      "    Conventions:    CF-1.0\n",
      "    Source:         ftp://ftp.cpc.ncep.noaa.gov/precip/wd52ws/global_temp/\n",
      "    References:     https://www.psl.noaa.gov/data/gridded/data.cpc.globaltemp...\n",
      "    version:        V1.0\n",
      "    title:          CPC GLOBAL TEMP V1.0\n",
      "    dataset_title:  CPC GLOBAL TEMP\n",
      "    history:        Updated 2025-04-09 15:37:46\n"
     ]
    }
   ],
   "source": [
    "# Trigger computation / download\n",
    "start_time = time.time()\n",
    "sliced_ds.load()\n",
    "end_time = time.time()\n",
    "\n",
    "download_time = end_time - start_time\n",
    "download_size_mb = sliced_ds.nbytes / (1024 * 1024)\n",
    "download_speed_mbs = download_size_mb / download_time if download_time > 0 else 0.0\n",
    "\n",
    "print(f\"Download and subset completed in {download_time:.2f} seconds. Speed: {download_speed_mbs:.2f} MB/s\")\n",
    "print(sliced_ds)"
   ]
  }
 ],
 "metadata": {
  "kernelspec": {
   "display_name": "Python (v3-env)",
   "language": "python",
   "name": "v3-env"
  },
  "language_info": {
   "codemirror_mode": {
    "name": "ipython",
    "version": 3
   },
   "file_extension": ".py",
   "mimetype": "text/x-python",
   "name": "python",
   "nbconvert_exporter": "python",
   "pygments_lexer": "ipython3",
   "version": "3.12.7"
  }
 },
 "nbformat": 4,
 "nbformat_minor": 5
}
