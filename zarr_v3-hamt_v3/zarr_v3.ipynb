{
 "cells": [
  {
   "cell_type": "code",
   "execution_count": 7,
   "id": "3a552590",
   "metadata": {},
   "outputs": [
    {
     "name": "stdout",
     "output_type": "stream",
     "text": [
      "<xarray.Dataset> Size: 1GB\n",
      "Dimensions:    (time: 1096, latitude: 360, longitude: 720)\n",
      "Coordinates:\n",
      "  * longitude  (longitude) float32 3kB -179.8 -179.2 -178.8 ... 179.2 179.8\n",
      "  * latitude   (latitude) float32 1kB -89.75 -89.25 -88.75 ... 88.75 89.25 89.75\n",
      "  * time       (time) datetime64[ns] 9kB 1979-01-01 1979-01-02 ... 1981-12-31\n",
      "Data variables:\n",
      "    tmax       (time, latitude, longitude) float32 1GB ...\n",
      "Attributes:\n",
      "    Conventions:    CF-1.0\n",
      "    version:        V1.0\n",
      "    history:        created 9/2016 by CAS NOAA/ESRL PSD\n",
      "    title:          CPC GLOBAL TEMP V1.0\n",
      "    dataset_title:  CPC GLOBAL TEMP\n",
      "    Source:         ftp://ftp.cpc.ncep.noaa.gov/precip/wd52ws/global_temp/\n",
      "    References:     https://www.psl.noaa.gov/data/gridded/data.cpc.globaltemp...\n"
     ]
    }
   ],
   "source": [
    "import time\n",
    "\n",
    "import xarray as xr\n",
    "from multiformats import CID\n",
    "from py_hamt import HAMT, KuboCAS, ZarrHAMTStore\n",
    "from xarray import Dataset\n",
    "\n",
    "ipns_hash = \"bafyr4ieluxdrinwpso33odqjecozqg2t2vsgoodp3unccs6ebma5ovrb2i\"\n",
    "\n",
    "# Create a content address store instance using the IPFS gateway URL\n",
    "kubo_cas = KuboCAS(gateway_base_url=\"http://127.0.0.1:8080/\")\n",
    "\n",
    "# Decode the root CID for the Zarr dataset\n",
    "root_node_id = CID.decode(ipns_hash)\n",
    "\n",
    "# Create HAMT instance using the IPFSStore\n",
    "hamt = HAMT(cas=kubo_cas, values_are_bytes=True, root_node_id=root_node_id, read_only=True)\n",
    "\n",
    "# Initialize the store\n",
    "zhs = ZarrHAMTStore(hamt, read_only=True)\n",
    "\n",
    "# Open the dataset with xarray\n",
    "zarr_ds: Dataset = xr.open_zarr(store=zhs, zarr_format=3)\n",
    "\n",
    "# Sort the dataset by latitude and longitude\n",
    "zarr_ds = zarr_ds.sortby(\"longitude\")\n",
    "zarr_ds = zarr_ds.sortby(\"latitude\")\n",
    "\n",
    "print(zarr_ds)"
   ]
  },
  {
   "cell_type": "code",
   "execution_count": 8,
   "id": "83afd9fc",
   "metadata": {},
   "outputs": [
    {
     "name": "stdout",
     "output_type": "stream",
     "text": [
      "<xarray.Dataset> Size: 95MB\n",
      "Dimensions:    (time: 731, latitude: 180, longitude: 180)\n",
      "Coordinates:\n",
      "  * longitude  (longitude) float32 720B 0.25 0.75 1.25 ... 88.75 89.25 89.75\n",
      "  * latitude   (latitude) float32 720B 0.25 0.75 1.25 1.75 ... 88.75 89.25 89.75\n",
      "  * time       (time) datetime64[ns] 6kB 1979-01-01 1979-01-02 ... 1980-12-31\n",
      "Data variables:\n",
      "    tmax       (time, latitude, longitude) float32 95MB ...\n",
      "Attributes:\n",
      "    Conventions:    CF-1.0\n",
      "    version:        V1.0\n",
      "    history:        created 9/2016 by CAS NOAA/ESRL PSD\n",
      "    title:          CPC GLOBAL TEMP V1.0\n",
      "    dataset_title:  CPC GLOBAL TEMP\n",
      "    Source:         ftp://ftp.cpc.ncep.noaa.gov/precip/wd52ws/global_temp/\n",
      "    References:     https://www.psl.noaa.gov/data/gridded/data.cpc.globaltemp...\n"
     ]
    }
   ],
   "source": [
    "lat_bounds = (0, 92)\n",
    "lon_bounds = (0, 90)\n",
    "time_bounds = (\"1979-01-01\", \"1980-12-31\")\n",
    "\n",
    "# Subset the dataset\n",
    "sliced_ds = zarr_ds.sel(\n",
    "    latitude=slice(*lat_bounds),\n",
    "    longitude=slice(*lon_bounds),\n",
    "    time=slice(*time_bounds)\n",
    ")\n",
    "\n",
    "print(sliced_ds)"
   ]
  },
  {
   "cell_type": "code",
   "execution_count": 9,
   "id": "76dd8510",
   "metadata": {},
   "outputs": [
    {
     "name": "stdout",
     "output_type": "stream",
     "text": [
      "Download and subset completed in 475.80 seconds. Speed: 0.19 MB/s\n",
      "<xarray.Dataset> Size: 95MB\n",
      "Dimensions:    (time: 731, latitude: 180, longitude: 180)\n",
      "Coordinates:\n",
      "  * longitude  (longitude) float32 720B 0.25 0.75 1.25 ... 88.75 89.25 89.75\n",
      "  * latitude   (latitude) float32 720B 0.25 0.75 1.25 1.75 ... 88.75 89.25 89.75\n",
      "  * time       (time) datetime64[ns] 6kB 1979-01-01 1979-01-02 ... 1980-12-31\n",
      "Data variables:\n",
      "    tmax       (time, latitude, longitude) float32 95MB nan nan nan ... nan nan\n",
      "Attributes:\n",
      "    Conventions:    CF-1.0\n",
      "    version:        V1.0\n",
      "    history:        created 9/2016 by CAS NOAA/ESRL PSD\n",
      "    title:          CPC GLOBAL TEMP V1.0\n",
      "    dataset_title:  CPC GLOBAL TEMP\n",
      "    Source:         ftp://ftp.cpc.ncep.noaa.gov/precip/wd52ws/global_temp/\n",
      "    References:     https://www.psl.noaa.gov/data/gridded/data.cpc.globaltemp...\n"
     ]
    }
   ],
   "source": [
    "# Trigger computation / download\n",
    "start_time = time.time()\n",
    "sliced_ds.load()\n",
    "end_time = time.time()\n",
    "\n",
    "download_time = end_time - start_time\n",
    "download_size_mb = sliced_ds.nbytes / (1024 * 1024)\n",
    "download_speed_mbs = download_size_mb / download_time if download_time > 0 else 0.0\n",
    "\n",
    "print(f\"Download and subset completed in {download_time:.2f} seconds. Speed: {download_speed_mbs:.2f} MB/s\")\n",
    "print(sliced_ds)"
   ]
  }
 ],
 "metadata": {
  "kernelspec": {
   "display_name": ".venv",
   "language": "python",
   "name": "python3"
  },
  "language_info": {
   "codemirror_mode": {
    "name": "ipython",
    "version": 3
   },
   "file_extension": ".py",
   "mimetype": "text/x-python",
   "name": "python",
   "nbconvert_exporter": "python",
   "pygments_lexer": "ipython3",
   "version": "3.12.1"
  }
 },
 "nbformat": 4,
 "nbformat_minor": 5
}
